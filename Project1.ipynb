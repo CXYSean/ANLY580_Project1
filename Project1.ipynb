{
 "cells": [
  {
   "cell_type": "code",
   "execution_count": 254,
   "metadata": {},
   "outputs": [],
   "source": [
    "import pandas as pd\n",
    "import numpy as np\n",
    "import nltk\n",
    "import re\n",
    "from nltk.corpus import stopwords"
   ]
  },
  {
   "cell_type": "code",
   "execution_count": 255,
   "metadata": {},
   "outputs": [
    {
     "data": {
      "text/plain": [
       "{'a',\n",
       " 'about',\n",
       " 'above',\n",
       " 'after',\n",
       " 'again',\n",
       " 'against',\n",
       " 'ain',\n",
       " 'all',\n",
       " 'am',\n",
       " 'an',\n",
       " 'and',\n",
       " 'any',\n",
       " 'are',\n",
       " 'aren',\n",
       " \"aren't\",\n",
       " 'as',\n",
       " 'at',\n",
       " 'be',\n",
       " 'because',\n",
       " 'been',\n",
       " 'before',\n",
       " 'being',\n",
       " 'below',\n",
       " 'between',\n",
       " 'both',\n",
       " 'but',\n",
       " 'by',\n",
       " 'can',\n",
       " 'couldn',\n",
       " \"couldn't\",\n",
       " 'd',\n",
       " 'did',\n",
       " 'didn',\n",
       " \"didn't\",\n",
       " 'do',\n",
       " 'does',\n",
       " 'doesn',\n",
       " \"doesn't\",\n",
       " 'doing',\n",
       " 'don',\n",
       " \"don't\",\n",
       " 'down',\n",
       " 'during',\n",
       " 'each',\n",
       " 'few',\n",
       " 'for',\n",
       " 'from',\n",
       " 'further',\n",
       " 'had',\n",
       " 'hadn',\n",
       " \"hadn't\",\n",
       " 'has',\n",
       " 'hasn',\n",
       " \"hasn't\",\n",
       " 'have',\n",
       " 'haven',\n",
       " \"haven't\",\n",
       " 'having',\n",
       " 'he',\n",
       " 'her',\n",
       " 'here',\n",
       " 'hers',\n",
       " 'herself',\n",
       " 'him',\n",
       " 'himself',\n",
       " 'his',\n",
       " 'how',\n",
       " 'i',\n",
       " 'if',\n",
       " 'in',\n",
       " 'into',\n",
       " 'is',\n",
       " 'isn',\n",
       " \"isn't\",\n",
       " 'it',\n",
       " \"it's\",\n",
       " 'its',\n",
       " 'itself',\n",
       " 'just',\n",
       " 'll',\n",
       " 'm',\n",
       " 'ma',\n",
       " 'me',\n",
       " 'mightn',\n",
       " \"mightn't\",\n",
       " 'more',\n",
       " 'most',\n",
       " 'mustn',\n",
       " \"mustn't\",\n",
       " 'my',\n",
       " 'myself',\n",
       " 'needn',\n",
       " \"needn't\",\n",
       " 'no',\n",
       " 'nor',\n",
       " 'not',\n",
       " 'now',\n",
       " 'o',\n",
       " 'of',\n",
       " 'off',\n",
       " 'on',\n",
       " 'once',\n",
       " 'only',\n",
       " 'or',\n",
       " 'other',\n",
       " 'our',\n",
       " 'ours',\n",
       " 'ourselves',\n",
       " 'out',\n",
       " 'over',\n",
       " 'own',\n",
       " 're',\n",
       " 's',\n",
       " 'same',\n",
       " 'shan',\n",
       " \"shan't\",\n",
       " 'she',\n",
       " \"she's\",\n",
       " 'should',\n",
       " \"should've\",\n",
       " 'shouldn',\n",
       " \"shouldn't\",\n",
       " 'so',\n",
       " 'some',\n",
       " 'such',\n",
       " 't',\n",
       " 'than',\n",
       " 'that',\n",
       " \"that'll\",\n",
       " 'the',\n",
       " 'their',\n",
       " 'theirs',\n",
       " 'them',\n",
       " 'themselves',\n",
       " 'then',\n",
       " 'there',\n",
       " 'these',\n",
       " 'they',\n",
       " 'this',\n",
       " 'those',\n",
       " 'through',\n",
       " 'to',\n",
       " 'too',\n",
       " 'under',\n",
       " 'until',\n",
       " 'up',\n",
       " 've',\n",
       " 'very',\n",
       " 'was',\n",
       " 'wasn',\n",
       " \"wasn't\",\n",
       " 'we',\n",
       " 'were',\n",
       " 'weren',\n",
       " \"weren't\",\n",
       " 'what',\n",
       " 'when',\n",
       " 'where',\n",
       " 'which',\n",
       " 'while',\n",
       " 'who',\n",
       " 'whom',\n",
       " 'why',\n",
       " 'will',\n",
       " 'with',\n",
       " 'won',\n",
       " \"won't\",\n",
       " 'wouldn',\n",
       " \"wouldn't\",\n",
       " 'y',\n",
       " 'you',\n",
       " \"you'd\",\n",
       " \"you'll\",\n",
       " \"you're\",\n",
       " \"you've\",\n",
       " 'your',\n",
       " 'yours',\n",
       " 'yourself',\n",
       " 'yourselves'}"
      ]
     },
     "execution_count": 255,
     "metadata": {},
     "output_type": "execute_result"
    }
   ],
   "source": [
    "f = open('./data/Dev/INPUT.txt').readlines()\n",
    "stop_words = set(stopwords.words('english'))\n",
    "stop_words"
   ]
  },
  {
   "cell_type": "code",
   "execution_count": 256,
   "metadata": {},
   "outputs": [],
   "source": [
    "num_of_tweets = 0\n",
    "lines = []\n",
    "for line in f:\n",
    "    num_of_tweets = num_of_tweets +1\n",
    "    #print(line)\n"
   ]
  },
  {
   "cell_type": "code",
   "execution_count": 257,
   "metadata": {},
   "outputs": [
    {
     "name": "stdout",
     "output_type": "stream",
     "text": [
      "number of tweets:  12284\n"
     ]
    }
   ],
   "source": [
    "print(\"number of tweets: \", num_of_tweets)"
   ]
  },
  {
   "cell_type": "code",
   "execution_count": 258,
   "metadata": {},
   "outputs": [
    {
     "data": {
      "text/plain": [
       "['ariana grande kiis fm truly cd listening party burbank #arianagrande\\n',\n",
       " 'ariana grande white house easter egg roll washington #arianagrande\\n',\n",
       " '#cd #musics ariana grande sweet like candy 3.4 oz 100 ml sealed box 100% authenic new',\n",
       " 'side side 😘 @arianagrande #sidetoside #arianagrande #musically #comunidadgay #lgbt🌈  #lotb…']"
      ]
     },
     "execution_count": 258,
     "metadata": {},
     "output_type": "execute_result"
    }
   ],
   "source": [
    "tweets = []\n",
    "for s in f:\n",
    "    s.split('\\t', 2)[0]\n",
    "    tweets.append(s.split('\\t', 2)[2])\n",
    "\n",
    "tweets_remove_url = []\n",
    "for tweet in tweets:\n",
    "    t = tweet.split(' ')\n",
    "    temp = []\n",
    "    for s in t:\n",
    "        s = s.lower()\n",
    "        if \"https://\"  in s or s in stop_words:\n",
    "            continue\n",
    "        else:\n",
    "            temp.append(s.lower())\n",
    "    tweets_remove_url.append(\" \".join(temp))\n",
    "tweets_remove_url[1:5]"
   ]
  },
  {
   "cell_type": "code",
   "execution_count": 259,
   "metadata": {},
   "outputs": [],
   "source": [
    "tweets = tweets_remove_url"
   ]
  },
  {
   "cell_type": "code",
   "execution_count": 260,
   "metadata": {},
   "outputs": [],
   "source": [
    "from nltk.tokenize import WhitespaceTokenizer\n",
    "from nltk.tokenize import TweetTokenizer\n",
    "tokens_white = WhitespaceTokenizer().tokenize(\" \".join(tweets)) "
   ]
  },
  {
   "cell_type": "code",
   "execution_count": 261,
   "metadata": {},
   "outputs": [],
   "source": [
    "tokens_tweet = TweetTokenizer().tokenize(\" \".join(tweets))"
   ]
  },
  {
   "cell_type": "code",
   "execution_count": 262,
   "metadata": {},
   "outputs": [
    {
     "name": "stdout",
     "output_type": "stream",
     "text": [
      "Total number of words white:  124931\n",
      "Total number of words tweet:  153847\n"
     ]
    }
   ],
   "source": [
    "print(\"Total number of words white: \", len(tokens_white))\n",
    "print(\"Total number of words tweet: \", len(tokens_tweet))"
   ]
  },
  {
   "cell_type": "code",
   "execution_count": 263,
   "metadata": {},
   "outputs": [],
   "source": [
    "def remove_url(tokens):\n",
    "    res = []\n",
    "    for token in tokens:\n",
    "        if \"https:\" in token or token in stop_words:\n",
    "            continue\n",
    "        else:\n",
    "            res.append(token)\n",
    "    return res\n",
    "            \n",
    "tokens_tweet_url_removed = remove_url(tokens_tweet)"
   ]
  },
  {
   "cell_type": "code",
   "execution_count": 264,
   "metadata": {},
   "outputs": [],
   "source": [
    "tokens_tweet_url_punct_removed = list(filter (lambda s:any([c.isalnum() for c in s]), tokens_tweet_url_removed))"
   ]
  },
  {
   "cell_type": "code",
   "execution_count": 265,
   "metadata": {},
   "outputs": [],
   "source": [
    "tokens_tweet_url_punct_removed = [x.lower() for x in tokens_tweet_url_punct_removed]"
   ]
  },
  {
   "cell_type": "code",
   "execution_count": 266,
   "metadata": {},
   "outputs": [
    {
     "data": {
      "text/plain": [
       "120353"
      ]
     },
     "execution_count": 266,
     "metadata": {},
     "output_type": "execute_result"
    }
   ],
   "source": [
    "len(tokens_tweet_url_punct_removed)"
   ]
  },
  {
   "cell_type": "code",
   "execution_count": 267,
   "metadata": {},
   "outputs": [
    {
     "name": "stdout",
     "output_type": "stream",
     "text": [
      "avg words per tweet:  9.797541517421035\n",
      "avg chars per tweet:  64.10094431781178\n"
     ]
    }
   ],
   "source": [
    "def preprocess(tweet):\n",
    "    tokens = TweetTokenizer().tokenize(tweet)\n",
    "\n",
    "    tokens = remove_url(tokens)\n",
    "    tokens = list(filter (lambda s:any([c.isalnum() for c in s]), tokens))\n",
    "    num_chars = 0\n",
    "    for token in tokens:\n",
    "        num_chars = num_chars+len(token)\n",
    "    return len(tokens),num_chars\n",
    "\n",
    "avg_words = 0\n",
    "avg_chars = 0\n",
    "for tweet in tweets:\n",
    "    num_words, num_chars = preprocess(tweet)\n",
    "    avg_words = avg_words + num_words\n",
    "    avg_chars = avg_chars + num_chars\n",
    "print(\"avg words per tweet: \", avg_words/len(tweets))\n",
    "print(\"avg chars per tweet: \", avg_chars/len(tweets))\n",
    "    "
   ]
  },
  {
   "cell_type": "code",
   "execution_count": 268,
   "metadata": {},
   "outputs": [],
   "source": [
    "num_chars_token = [len(token) for token in tokens_tweet_url_punct_removed]"
   ]
  },
  {
   "cell_type": "code",
   "execution_count": 269,
   "metadata": {},
   "outputs": [
    {
     "name": "stdout",
     "output_type": "stream",
     "text": [
      "Avg chars of tokens:  6.5425539870215115\n",
      "Std chars of tokens:  3.3074898213088453\n"
     ]
    }
   ],
   "source": [
    "print(\"Avg chars of tokens: \",np.mean(num_chars_token))\n",
    "print(\"Std chars of tokens: \",np.std(num_chars_token))"
   ]
  },
  {
   "cell_type": "code",
   "execution_count": 270,
   "metadata": {},
   "outputs": [],
   "source": [
    "from nltk.probability import ConditionalFreqDist\n",
    "from nltk.probability import FreqDist\n",
    "\n",
    "fdist_tweet = FreqDist(tokens_tweet_url_punct_removed)\n",
    "cond_freq_dist = ConditionalFreqDist()"
   ]
  },
  {
   "cell_type": "code",
   "execution_count": 272,
   "metadata": {},
   "outputs": [
    {
     "name": "stdout",
     "output_type": "stream",
     "text": [
      "Unique words count:  27388\n",
      "[('trump', 880), ('like', 491), ('via', 389), ('get', 361), ('people', 361), ('one', 331), ('new', 307), (\"i'm\", 307), ('us', 294), ('2', 290)]\n",
      "Token/type:  0.22756391614666854\n"
     ]
    }
   ],
   "source": [
    "print(\"Unique words count: \",len(set(tokens_tweet_url_punct_removed)))\n",
    "print(fdist_tweet.most_common(10))\n",
    "print(\"Token/type: \", len(set(tokens_tweet_url_punct_removed))/len(tokens_tweet_url_punct_removed))"
   ]
  },
  {
   "cell_type": "code",
   "execution_count": 273,
   "metadata": {},
   "outputs": [
    {
     "data": {
      "image/png": "[encoded data removed]",
      "text/plain": [
       "<Figure size 432x288 with 1 Axes>"
      ]
     },
     "metadata": {
      "needs_background": "light"
     },
     "output_type": "display_data"
    }
   ],
   "source": [
    "from matplotlib import pyplot as plt\n",
    "fdist_tweet.plot(30)\n",
    "plt.show()"
   ]
  },
  {
   "cell_type": "code",
   "execution_count": 274,
   "metadata": {},
   "outputs": [],
   "source": [
    "top30 = list(fdist_tweet.most_common(30))\n",
    "word30 = [t[0] for t in top30]\n",
    "log30 = [np.log(t[1]) for t in top30]"
   ]
  },
  {
   "cell_type": "code",
   "execution_count": 275,
   "metadata": {},
   "outputs": [
    {
     "data": {
      "image/png": "[encoded data removed]",
      "text/plain": [
       "<Figure size 432x288 with 1 Axes>"
      ]
     },
     "metadata": {
      "needs_background": "light"
     },
     "output_type": "display_data"
    }
   ],
   "source": [
    "plt.plot(word30,log30)\n",
    "plt.xticks(rotation=90)\n",
    "plt.show()"
   ]
  },
  {
   "cell_type": "code",
   "execution_count": 276,
   "metadata": {},
   "outputs": [],
   "source": [
    "from nltk import ngrams\n",
    "n_grams = {}\n",
    "\n",
    "for n in range(2,6):\n",
    "    d_n = {}\n",
    "    for t in tweets:\n",
    "        grams = ngrams(t.split(), n)\n",
    "        for g in grams:\n",
    "            if g in d_n:\n",
    "                d_n[g] = d_n[g]+1\n",
    "            else:\n",
    "                d_n[g] = 1\n",
    "    n_grams[n] = d_n\n",
    "        \n",
    "    "
   ]
  },
  {
   "cell_type": "code",
   "execution_count": 277,
   "metadata": {},
   "outputs": [
    {
     "data": {
      "text/plain": [
       "76025"
      ]
     },
     "execution_count": 277,
     "metadata": {},
     "output_type": "execute_result"
    }
   ],
   "source": [
    "len(n_grams[5])"
   ]
  },
  {
   "cell_type": "code",
   "execution_count": 278,
   "metadata": {},
   "outputs": [],
   "source": [
    "n_grams_chars = {}\n",
    "for n in range(2,8):\n",
    "    d_char = {}\n",
    "    for b in tweets:\n",
    "        grams = [b[i:i+n] for i in range(len(b)-n+1)]\n",
    "        for g in grams:\n",
    "            if g in d_char:\n",
    "                d_char[g] = d_char[g]+1\n",
    "            else:\n",
    "                d_char[g] = 1\n",
    "        n_grams_chars[n] = d_char"
   ]
  },
  {
   "cell_type": "code",
   "execution_count": 279,
   "metadata": {
    "scrolled": true
   },
   "outputs": [],
   "source": [
    "#n_grams_chars[2]"
   ]
  },
  {
   "cell_type": "code",
   "execution_count": 280,
   "metadata": {},
   "outputs": [],
   "source": [
    "dev = open('./data/Gold/dev.txt').readlines()\n",
    "devtest = open('./data/Gold/devtest.txt').readlines()\n",
    "test = open('./data/Gold/test.txt').readlines()\n",
    "train = open('./data/Gold/train.txt').readlines()\n"
   ]
  },
  {
   "cell_type": "code",
   "execution_count": 281,
   "metadata": {},
   "outputs": [],
   "source": [
    "def remove_http(tweet):\n",
    "    t = tweet.split(' ')\n",
    "    temp = []\n",
    "    for s in t:\n",
    "        if \"https://\"  in s or \"http://\" in s or s.lower() in stop_words:\n",
    "            continue\n",
    "        else:\n",
    "            temp.append(s.lower())\n",
    "    return \" \".join(temp)\n",
    "\n",
    "def read_tweets(f):\n",
    "    positive = []\n",
    "    negative = []\n",
    "    neutral = []\n",
    "    tweets = []\n",
    "    res = []\n",
    "    for s in f:\n",
    "        t = s.split('\\t')\n",
    "        t[2] = remove_http(t[2])\n",
    "        if t[1] == \"positive\":\n",
    "            positive.append(t[2])\n",
    "        elif t[1] == \"negative\":\n",
    "            negative.append(t[2])\n",
    "        elif t[1] == \"neutral\":\n",
    "            neutral.append(t[2])\n",
    "        tweets.append(t[2])\n",
    "        res.append(t[1])\n",
    "    d = {}\n",
    "    d[\"positive\"] = positive\n",
    "    d[\"negative\"] = negative\n",
    "    d[\"neutral\"] = neutral\n",
    "    return tweets,d,res\n",
    "\n",
    "##dev_tweets, dev_tweets_dict,dev_res = read_tweets(dev)"
   ]
  },
  {
   "cell_type": "code",
   "execution_count": 282,
   "metadata": {},
   "outputs": [],
   "source": [
    "dev_tweets, dev_tweets_dict, dev_res = read_tweets(dev)\n",
    "devtest_tweets, devtest_tweets_dict, devtest_res = read_tweets(devtest)\n",
    "test_tweets, test_tweets_dict, test_res = read_tweets(test)\n",
    "train_tweets, train_tweets_dict, train_res = read_tweets(dev)"
   ]
  },
  {
   "cell_type": "code",
   "execution_count": 283,
   "metadata": {},
   "outputs": [],
   "source": [
    "#dev_tweets_dict['positive']"
   ]
  },
  {
   "cell_type": "code",
   "execution_count": 284,
   "metadata": {},
   "outputs": [],
   "source": [
    "tokens_dev_tweets = {}\n",
    "tokens_devtest_tweets = {}\n",
    "tokens_test_tweets = {}\n",
    "tokens_train_tweets = {}\n",
    "\n",
    "def process_list_tweets(tweets):\n",
    "    res = []\n",
    "    for tweet in tweets:\n",
    "        tokens = TweetTokenizer().tokenize(tweet)\n",
    "        tokens =  list(filter (lambda s:any([c.isalnum() for c in s]), tokens))\n",
    "        tokens = [x.lower() for x in tokens]\n",
    "        res.append(tokens)\n",
    "    return res\n",
    "\n",
    "tokens_dev_tweets['positive'] = process_list_tweets(dev_tweets_dict['positive'])\n",
    "tokens_dev_tweets['negative'] = process_list_tweets(dev_tweets_dict['negative'])\n",
    "tokens_dev_tweets['neutral'] = process_list_tweets(dev_tweets_dict['neutral'])\n",
    "\n",
    "tokens_devtest_tweets['positive'] = process_list_tweets(devtest_tweets_dict['positive'])\n",
    "tokens_devtest_tweets['negative'] = process_list_tweets(devtest_tweets_dict['negative'])\n",
    "tokens_devtest_tweets['neutral'] = process_list_tweets(devtest_tweets_dict['neutral'])\n",
    "\n",
    "tokens_test_tweets['positive'] = process_list_tweets(test_tweets_dict['positive'])\n",
    "tokens_test_tweets['negative'] = process_list_tweets(test_tweets_dict['negative'])\n",
    "tokens_test_tweets['neutral'] = process_list_tweets(test_tweets_dict['neutral'])\n",
    "\n",
    "tokens_train_tweets['positive'] = process_list_tweets(train_tweets_dict['positive'])\n",
    "tokens_train_tweets['negative'] = process_list_tweets(train_tweets_dict['negative'])\n",
    "tokens_train_tweets['neutral'] = process_list_tweets(train_tweets_dict['neutral'])\n"
   ]
  },
  {
   "cell_type": "code",
   "execution_count": 285,
   "metadata": {},
   "outputs": [
    {
     "data": {
      "text/plain": [
       "3170"
      ]
     },
     "execution_count": 285,
     "metadata": {},
     "output_type": "execute_result"
    }
   ],
   "source": [
    "tokens_gold_only = []\n",
    "for att in tokens_dev_tweets:\n",
    "    for tw in tokens_dev_tweets[att]:\n",
    "        for tok in tw:\n",
    "            if tok in tokens_gold_only or tok in tokens_tweet_url_punct_removed:\n",
    "                continue\n",
    "            else:\n",
    "                tokens_gold_only.append(tok)\n",
    "                \n",
    "\n",
    "len(tokens_gold_only)"
   ]
  },
  {
   "cell_type": "code",
   "execution_count": 286,
   "metadata": {},
   "outputs": [],
   "source": [
    "for att in tokens_devtest_tweets:\n",
    "    for tw in tokens_devtest_tweets[att]:\n",
    "        for tok in tw:\n",
    "            if tok in tokens_gold_only or tok in tokens_tweet_url_punct_removed:\n",
    "                continue\n",
    "            else:\n",
    "                tokens_gold_only.append(tok)\n",
    "                \n"
   ]
  },
  {
   "cell_type": "code",
   "execution_count": 287,
   "metadata": {},
   "outputs": [],
   "source": [
    "for att in tokens_test_tweets:\n",
    "    for tw in tokens_test_tweets[att]:\n",
    "        for tok in tw:\n",
    "            if tok in tokens_gold_only or tok in tokens_tweet_url_punct_removed:\n",
    "                continue\n",
    "            else:\n",
    "                tokens_gold_only.append(tok)\n"
   ]
  },
  {
   "cell_type": "code",
   "execution_count": 227,
   "metadata": {},
   "outputs": [],
   "source": [
    "\n",
    "for att in tokens_train_tweets:\n",
    "    for tw in tokens_train_tweets[att]:\n",
    "        for tok in tw:\n",
    "            if tok in tokens_gold_only or tok in tokens_tweet_url_punct_removed:\n",
    "                continue\n",
    "            else:\n",
    "                tokens_gold_only.append(tok)"
   ]
  },
  {
   "cell_type": "code",
   "execution_count": 228,
   "metadata": {},
   "outputs": [
    {
     "data": {
      "text/plain": [
       "26504"
      ]
     },
     "execution_count": 228,
     "metadata": {},
     "output_type": "execute_result"
    }
   ],
   "source": [
    "len(tokens_gold_only)"
   ]
  },
  {
   "cell_type": "code",
   "execution_count": 229,
   "metadata": {},
   "outputs": [
    {
     "name": "stdout",
     "output_type": "stream",
     "text": [
      "Training Positive:  843\n",
      "Training Negative:  391\n",
      "Training Neutral:  765\n"
     ]
    }
   ],
   "source": [
    "print(\"Training Positive: \", len(tokens_train_tweets['positive']))\n",
    "print(\"Training Negative: \", len(tokens_train_tweets['negative']))\n",
    "print(\"Training Neutral: \", len(tokens_train_tweets['neutral']))"
   ]
  },
  {
   "cell_type": "code",
   "execution_count": 230,
   "metadata": {},
   "outputs": [],
   "source": [
    "positive_train = [item for sublist in tokens_train_tweets['positive'] for item in sublist]\n",
    "freq_post_train = FreqDist(positive_train)"
   ]
  },
  {
   "cell_type": "code",
   "execution_count": 251,
   "metadata": {},
   "outputs": [
    {
     "data": {
      "text/plain": [
       "[('may', 138),\n",
       " ('tomorrow', 123),\n",
       " ('minecraft', 80),\n",
       " (\"i'm\", 69),\n",
       " ('pride', 68),\n",
       " ('parade', 66),\n",
       " ('seinfeld', 62),\n",
       " ('sunday', 61),\n",
       " ('snoop', 60),\n",
       " ('michael', 58),\n",
       " ('obama', 58),\n",
       " ('netflix', 58),\n",
       " ('nokia', 58),\n",
       " ('ric', 58),\n",
       " ('dogg', 58),\n",
       " ('jackson', 55),\n",
       " ('pope', 54),\n",
       " ('1st', 51),\n",
       " ('going', 51),\n",
       " ('serena', 51),\n",
       " ('nike', 49),\n",
       " ('time', 46),\n",
       " ('night', 45),\n",
       " ('one', 44),\n",
       " ('see', 43),\n",
       " ('make', 43),\n",
       " ('flair', 43),\n",
       " ('like', 42),\n",
       " ('nintendo', 42),\n",
       " ('oracle', 42)]"
      ]
     },
     "execution_count": 251,
     "metadata": {},
     "output_type": "execute_result"
    }
   ],
   "source": [
    "freq_post_train.most_common(30)"
   ]
  },
  {
   "cell_type": "code",
   "execution_count": 252,
   "metadata": {},
   "outputs": [
    {
     "data": {
      "text/plain": [
       "[('may', 109),\n",
       " ('planned', 57),\n",
       " ('parenthood', 53),\n",
       " ('sarah', 52),\n",
       " ('obama', 51),\n",
       " ('palin', 50),\n",
       " ('rick', 44),\n",
       " ('perry', 41),\n",
       " ('1st', 40),\n",
       " ('scotus', 39),\n",
       " ('like', 37),\n",
       " ('monsanto', 36),\n",
       " ('tomorrow', 27),\n",
       " ('us', 22),\n",
       " ('one', 20),\n",
       " ('michelle', 19),\n",
       " ('think', 19),\n",
       " ('3rd', 19),\n",
       " ('make', 18),\n",
       " ('get', 18),\n",
       " ('amendment', 17),\n",
       " ('day', 16),\n",
       " ('time', 16),\n",
       " ('going', 16),\n",
       " ('would', 16),\n",
       " ('people', 15),\n",
       " ('sun', 15),\n",
       " ('it', 15),\n",
       " ('2nd', 14),\n",
       " ('still', 14)]"
      ]
     },
     "execution_count": 252,
     "metadata": {},
     "output_type": "execute_result"
    }
   ],
   "source": [
    "negative_train = [item for sublist in tokens_train_tweets['negative'] for item in sublist]\n",
    "freq_nega_train = FreqDist(negative_train)\n",
    "freq_nega_train.most_common(30)"
   ]
  },
  {
   "cell_type": "code",
   "execution_count": 253,
   "metadata": {},
   "outputs": [
    {
     "data": {
      "text/plain": [
       "[('may', 150),\n",
       " ('tomorrow', 82),\n",
       " ('obama', 78),\n",
       " ('1st', 61),\n",
       " ('scotus', 59),\n",
       " ('time', 55),\n",
       " ('like', 51),\n",
       " ('monsanto', 47),\n",
       " ('nintendo', 47),\n",
       " ('oracle', 47),\n",
       " ('serena', 45),\n",
       " ('michelle', 43),\n",
       " ('palin', 43),\n",
       " ('sarah', 42),\n",
       " (\"i'm\", 41),\n",
       " ('nike', 41),\n",
       " ('2nd', 39),\n",
       " ('going', 38),\n",
       " ('sunday', 38),\n",
       " ('pope', 38),\n",
       " ('snoop', 38),\n",
       " ('ric', 37),\n",
       " ('rick', 37),\n",
       " ('3rd', 36),\n",
       " ('netflix', 36),\n",
       " ('michael', 34),\n",
       " ('jackson', 34),\n",
       " ('nokia', 34),\n",
       " ('pride', 33),\n",
       " ('parade', 33)]"
      ]
     },
     "execution_count": 253,
     "metadata": {},
     "output_type": "execute_result"
    }
   ],
   "source": [
    "neutral_train = [item for sublist in tokens_train_tweets['neutral'] for item in sublist]\n",
    "freq_neut_train = FreqDist(neutral_train)\n",
    "freq_neut_train.most_common(30)"
   ]
  },
  {
   "cell_type": "code",
   "execution_count": 234,
   "metadata": {},
   "outputs": [],
   "source": [
    "##from 2-tools.ipynb\n",
    "def separate_tokens_types(words):\n",
    "\n",
    "    \"\"\"\n",
    "    Given a list of words from a corpus, separate the counts of tokens and\n",
    "    types in time. Return the two lists.\n",
    "    \"\"\"\n",
    "\n",
    "    t_d = {}\n",
    "    tokens, types = [], []\n",
    "    count = 0\n",
    "    for i in range(len(words)):\n",
    "\n",
    "        if words[i] not in t_d:\n",
    "            count += 1\n",
    "            t_d[words[i]] = 1\n",
    "\n",
    "        tokens.append(i + 1)\n",
    "        types.append(count)\n",
    "\n",
    "    return tokens, types\n",
    "\n",
    "gold_words = [t.split(' ') for t in dev_tweets]+[t.split(' ') for t in devtest_tweets]\n",
    "gold_words = gold_words+[t.split(' ') for t in test_tweets]+[t.split(' ') for t in train_tweets]\n",
    "gold_words = [item.lower() for sublist in gold_words for item in sublist if item.isalpha()]"
   ]
  },
  {
   "cell_type": "code",
   "execution_count": 235,
   "metadata": {},
   "outputs": [
    {
     "data": {
      "text/plain": [
       "222336"
      ]
     },
     "execution_count": 235,
     "metadata": {},
     "output_type": "execute_result"
    }
   ],
   "source": [
    "len(gold_words)"
   ]
  },
  {
   "cell_type": "code",
   "execution_count": 236,
   "metadata": {},
   "outputs": [
    {
     "name": "stderr",
     "output_type": "stream",
     "text": [
      "//anaconda3/lib/python3.7/site-packages/IPython/core/pylabtools.py:128: UserWarning: Creating legend with loc=\"best\" can be slow with large amounts of data.\n",
      "  fig.canvas.print_figure(bytes_io, **kw)\n"
     ]
    },
    {
     "data": {
      "image/png": "[encoded data removed]",
      "text/plain": [
       "<Figure size 432x288 with 1 Axes>"
      ]
     },
     "metadata": {
      "needs_background": "light"
     },
     "output_type": "display_data"
    }
   ],
   "source": [
    "gold_tokens, gold_types = separate_tokens_types(gold_words)\n",
    "\n",
    "plt.plot(gold_tokens, gold_types, label='Gold')\n",
    "\n",
    "plt.grid()\n",
    "plt.legend()\n",
    "plt.title(\"Heaps' laws NLTK corpora\")\n",
    "plt.xlabel('Num tokens')\n",
    "plt.ylabel('Num types')\n",
    "plt.show()"
   ]
  },
  {
   "cell_type": "code",
   "execution_count": 237,
   "metadata": {},
   "outputs": [],
   "source": [
    "import operator\n",
    "from vaderSentiment.vaderSentiment import SentimentIntensityAnalyzer\n",
    "\n",
    "vader_analyzer = SentimentIntensityAnalyzer()\n",
    "vader_res = []\n",
    "for sentence in test_tweets:\n",
    "    vader_dict = vader_analyzer.polarity_scores(sentence)\n",
    "    if vader_dict['compound'] >= 0.55 : \n",
    "        vader_res.append(\"positive\") \n",
    "    elif vader_dict['compound'] <= - 0.55 : \n",
    "        vader_res.append(\"negative\") \n",
    "    else : \n",
    "        vader_res.append(\"neutral\")"
   ]
  },
  {
   "cell_type": "code",
   "execution_count": 238,
   "metadata": {},
   "outputs": [
    {
     "data": {
      "text/plain": [
       "0.5907328421868941"
      ]
     },
     "execution_count": 238,
     "metadata": {},
     "output_type": "execute_result"
    }
   ],
   "source": [
    "correct = 0\n",
    "for i in range(len(vader_res)):\n",
    "    if vader_res[i] == test_res[i]:\n",
    "        correct = correct + 1\n",
    "\n",
    "correct/len(vader_res)"
   ]
  },
  {
   "cell_type": "code",
   "execution_count": 239,
   "metadata": {},
   "outputs": [],
   "source": [
    "positive_gold = [item for sublist in tokens_dev_tweets['positive'] for item in sublist]+[item for sublist in tokens_devtest_tweets['positive'] for item in sublist]+[item for sublist in tokens_test_tweets['positive'] for item in sublist]+[item for sublist in tokens_train_tweets['positive'] for item in sublist]\n",
    "freq_post_gold = FreqDist(positive_dev)\n",
    "negative_gold = [item for sublist in tokens_dev_tweets['negative'] for item in sublist]+[item for sublist in tokens_devtest_tweets['negative'] for item in sublist]+[item for sublist in tokens_test_tweets['negative'] for item in sublist]+[item for sublist in tokens_train_tweets['negative'] for item in sublist]\n",
    "freq_nega_gold = FreqDist(negative_dev)\n",
    "neutral_gold = [item for sublist in tokens_dev_tweets['neutral'] for item in sublist]+[item for sublist in tokens_devtest_tweets['neutral'] for item in sublist]+[item for sublist in tokens_test_tweets['neutral'] for item in sublist]+[item for sublist in tokens_train_tweets['neutral'] for item in sublist]\n",
    "freq_neut_gold = FreqDist(neutral_dev)\n"
   ]
  },
  {
   "cell_type": "code",
   "execution_count": 240,
   "metadata": {},
   "outputs": [],
   "source": [
    "#freq_post_gold.most_common(30)"
   ]
  },
  {
   "cell_type": "code",
   "execution_count": 241,
   "metadata": {},
   "outputs": [],
   "source": [
    "#freq_nega_gold.most_common(30)"
   ]
  },
  {
   "cell_type": "code",
   "execution_count": 242,
   "metadata": {},
   "outputs": [],
   "source": [
    "#freq_neut_gold.most_common(30)"
   ]
  },
  {
   "cell_type": "code",
   "execution_count": 243,
   "metadata": {},
   "outputs": [],
   "source": [
    "##from https://towardsdatascience.com/creating-the-twitter-sentiment-analysis-program-in-python-with-naive-bayes-classification-672e5589a7ed\n",
    "def extract_features(tweet):\n",
    "    tweet_words = set(tweet)\n",
    "    features = {}\n",
    "    for word in word_features:\n",
    "        features['contains(%s)' % word] = (word in tweet_words)\n",
    "    return features\n",
    "\n",
    "\n",
    "def naive_bayes_data_prepare(d):\n",
    "    res = []\n",
    "    for k in d:\n",
    "        for t in d[k]:\n",
    "            res.append((t,k))\n",
    "    return res\n",
    "\n",
    "def buildDict(d):\n",
    "    res = []\n",
    "    for k in d:\n",
    "        token_list = [item for sublist in d[k] for item in sublist]\n",
    "        freqs = FreqDist(token_list)\n",
    "        res.extend(freqs.keys())\n",
    "    return res"
   ]
  },
  {
   "cell_type": "code",
   "execution_count": 154,
   "metadata": {},
   "outputs": [],
   "source": [
    "train_naive_bayes = naive_bayes_data_prepare(tokens_train_tweets)\n",
    "test_naive_bayes = naive_bayes_data_prepare(tokens_test_tweets)\n",
    "word_features = buildDict(tokens_train_tweets)"
   ]
  },
  {
   "cell_type": "code",
   "execution_count": 155,
   "metadata": {},
   "outputs": [],
   "source": [
    "trainingFeatures=nltk.classify.apply_features(extract_features,train_naive_bayes)\n",
    "NBayesClassifier=nltk.NaiveBayesClassifier.train(trainingFeatures)\n"
   ]
  },
  {
   "cell_type": "code",
   "execution_count": 156,
   "metadata": {},
   "outputs": [],
   "source": [
    "NBResultLabels = [NBayesClassifier.classify(extract_features(tweet[0])) for tweet in test_naive_bayes]"
   ]
  },
  {
   "cell_type": "code",
   "execution_count": 157,
   "metadata": {},
   "outputs": [],
   "source": [
    "correct_nb = 0\n",
    "for i in range(len(NBResultLabels)):\n",
    "    if NBResultLabels[i] == test_res[i]:\n",
    "        correct_nb = correct_nb + 1"
   ]
  },
  {
   "cell_type": "code",
   "execution_count": 158,
   "metadata": {},
   "outputs": [
    {
     "data": {
      "text/plain": [
       "0.3166583291645823"
      ]
     },
     "execution_count": 158,
     "metadata": {},
     "output_type": "execute_result"
    }
   ],
   "source": [
    "correct_nb/len(NBResultLabels)"
   ]
  },
  {
   "cell_type": "code",
   "execution_count": 116,
   "metadata": {},
   "outputs": [],
   "source": [
    "from nltk.classify.scikitlearn import SklearnClassifier\n",
    "import statsmodels.formula.api as smf\n",
    "import statsmodels.api as sm"
   ]
  },
  {
   "cell_type": "code",
   "execution_count": 117,
   "metadata": {},
   "outputs": [],
   "source": [
    "from sklearn.linear_model import LogisticRegression"
   ]
  },
  {
   "cell_type": "code",
   "execution_count": 120,
   "metadata": {},
   "outputs": [
    {
     "name": "stderr",
     "output_type": "stream",
     "text": [
      "//anaconda3/lib/python3.7/site-packages/sklearn/linear_model/logistic.py:432: FutureWarning: Default solver will be changed to 'lbfgs' in 0.22. Specify a solver to silence this warning.\n",
      "  FutureWarning)\n",
      "//anaconda3/lib/python3.7/site-packages/sklearn/linear_model/logistic.py:469: FutureWarning: Default multi_class will be changed to 'auto' in 0.22. Specify the multi_class option to silence this warning.\n",
      "  \"this warning.\", FutureWarning)\n"
     ]
    },
    {
     "data": {
      "text/plain": [
       "<SklearnClassifier(LogisticRegression(C=1.0, class_weight=None, dual=False, fit_intercept=True,\n",
       "                   intercept_scaling=1, l1_ratio=None, max_iter=100,\n",
       "                   multi_class='warn', n_jobs=None, penalty='l2',\n",
       "                   random_state=None, solver='warn', tol=0.0001, verbose=0,\n",
       "                   warm_start=False))>"
      ]
     },
     "execution_count": 120,
     "metadata": {},
     "output_type": "execute_result"
    }
   ],
   "source": [
    "LogisticRegression_classifier = SklearnClassifier(LogisticRegression())\n",
    "LogisticRegression_classifier.train(trainingFeatures)\n",
    "##lreg.train(process_list_tweets(dev_tweets), dev_res)"
   ]
  },
  {
   "cell_type": "code",
   "execution_count": 124,
   "metadata": {},
   "outputs": [],
   "source": [
    "z"
   ]
  },
  {
   "cell_type": "code",
   "execution_count": 247,
   "metadata": {},
   "outputs": [
    {
     "data": {
      "text/plain": [
       "0.5911690577743312"
      ]
     },
     "execution_count": 247,
     "metadata": {},
     "output_type": "execute_result"
    }
   ],
   "source": [
    "nltk_vader_res = []\n",
    "\n",
    "analyzer = SentimentIntensityAnalyzer()\n",
    "for sentence in test_tweets:\n",
    "    vs = analyzer.polarity_scores(sentence)\n",
    "    if vs['compound'] >= 0.45 : \n",
    "        nltk_vader_res.append(\"positive\") \n",
    "    elif vs['compound'] <= - 0.45 : \n",
    "        nltk_vader_res.append(\"negative\") \n",
    "    else : \n",
    "        nltk_vader_res.append(\"neutral\")\n",
    "\n",
    "correct = 0\n",
    "for i in range(len(nltk_vader_res)):\n",
    "    if nltk_vader_res[i] == test_res[i]:\n",
    "        correct = correct + 1\n",
    "\n",
    "correct/len(nltk_vader_res)"
   ]
  },
  {
   "cell_type": "code",
   "execution_count": 248,
   "metadata": {},
   "outputs": [],
   "source": [
    "from nltk.classify import NaiveBayesClassifier\n",
    "from nltk.sentiment import SentimentAnalyzer"
   ]
  },
  {
   "cell_type": "code",
   "execution_count": 249,
   "metadata": {},
   "outputs": [],
   "source": [
    "def features(tweet):\n",
    "    return dict(('contains(%s)' % w, True) for w in tweet)\n",
    "\n",
    "positive_featuresets = [(features(tweet),'positive') for tweet in tokens_dev_tweets['positive']]\n",
    "negative_featuresets = [(features(tweet),'negative') for tweet in tokens_dev_tweets['negative']]\n",
    "neutral_featuresets = [(features(tweet),'neutral') for tweet in tokens_dev_tweets['neutral']]\n",
    "training_features = positive_featuresets + negative_featuresets + neutral_featuresets"
   ]
  },
  {
   "cell_type": "code",
   "execution_count": 250,
   "metadata": {},
   "outputs": [
    {
     "name": "stdout",
     "output_type": "stream",
     "text": [
      "Training classifier\n"
     ]
    }
   ],
   "source": [
    "sentiment_analyzer = SentimentAnalyzer()\n",
    "trainer = NaiveBayesClassifier.train\n",
    "classifier = sentiment_analyzer.train(trainer, training_features)\n"
   ]
  },
  {
   "cell_type": "code",
   "execution_count": null,
   "metadata": {},
   "outputs": [],
   "source": []
  }
 ],
 "metadata": {
  "kernelspec": {
   "display_name": "Python 3",
   "language": "python",
   "name": "python3"
  },
  "language_info": {
   "codemirror_mode": {
    "name": "ipython",
    "version": 3
   },
   "file_extension": ".py",
   "mimetype": "text/x-python",
   "name": "python",
   "nbconvert_exporter": "python",
   "pygments_lexer": "ipython3",
   "version": "3.7.3"
  }
 },
 "nbformat": 4,
 "nbformat_minor": 2
}
