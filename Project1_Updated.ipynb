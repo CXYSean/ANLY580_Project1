{
 "cells": [
  {
   "cell_type": "code",
   "execution_count": 6,
   "metadata": {},
   "outputs": [],
   "source": [
    "import pandas as pd\n",
    "import numpy as np\n",
    "import nltk\n",
    "import re\n",
    "from nltk.corpus import stopwords"
   ]
  },
  {
   "cell_type": "code",
   "execution_count": 12,
   "metadata": {},
   "outputs": [
    {
     "data": {
      "text/plain": [
       "[('801989272341453952',\n",
       "  'ariana grande kiis fm truly cd listening party burbank #arianagrande\\n'),\n",
       " ('801990978424962944',\n",
       "  'ariana grande white house easter egg roll washington #arianagrande\\n'),\n",
       " ('801996232553963008',\n",
       "  '#cd #musics ariana grande sweet like candy 3.4 oz 100 ml sealed box 100% authenic new'),\n",
       " ('801998343442407040',\n",
       "  'side side 😘 @arianagrande #sidetoside #arianagrande #musically #comunidadgay #lgbt🌈  #lotb…')]"
      ]
     },
     "execution_count": 12,
     "metadata": {},
     "output_type": "execute_result"
    }
   ],
   "source": [
    "f = open('./data/Dev/INPUT.txt').readlines()\n",
    "stop_words = set(stopwords.words('english'))\n",
    "num_of_tweets = 0\n",
    "lines = []\n",
    "\n",
    "from nltk.stem import PorterStemmer\n",
    "from nltk.stem import WordNetLemmatizer\n",
    "\n",
    "def preprocess_tweet(tweet):\n",
    "    words = tweet.split(' ')\n",
    "    temp = []\n",
    "    for w in words:\n",
    "        s = w.lower()\n",
    "        if \"http\" in s or s in stop_words:\n",
    "            continue\n",
    "        else:\n",
    "            temp.append(s)\n",
    "    return \" \".join(temp)\n",
    "\n",
    "input_tuple = []\n",
    "input_tweets = []\n",
    "for line in f:\n",
    "    num_of_tweets = num_of_tweets+1\n",
    "    input_id = line.split('\\t',2)[0]\n",
    "    s = line.split('\\t',2)[2]\n",
    "    input_tuple.append((input_id,preprocess_tweet(s)))\n",
    "    input_tweets.append(preprocess_tweet(s))\n",
    "    \n",
    "input_tuple[1:5]"
   ]
  },
  {
   "cell_type": "code",
   "execution_count": 13,
   "metadata": {},
   "outputs": [],
   "source": [
    "from nltk.tokenize import WhitespaceTokenizer\n",
    "from nltk.tokenize import TweetTokenizer"
   ]
  },
  {
   "cell_type": "code",
   "execution_count": 14,
   "metadata": {},
   "outputs": [
    {
     "name": "stdout",
     "output_type": "stream",
     "text": [
      "Total number of words white:  124923\n",
      "Total number of words tweet:  153822\n"
     ]
    }
   ],
   "source": [
    "white_tokens = WhitespaceTokenizer().tokenize(\" \".join(input_tweets))\n",
    "tweet_tokens = TweetTokenizer().tokenize(\" \".join(input_tweets))\n",
    "print(\"Total number of words white: \", len(white_tokens))\n",
    "print(\"Total number of words tweet: \", len(tweet_tokens))"
   ]
  },
  {
   "cell_type": "code",
   "execution_count": 25,
   "metadata": {},
   "outputs": [],
   "source": [
    "from nltk.probability import ConditionalFreqDist\n",
    "from nltk.probability import FreqDist\n",
    "\n",
    "tweet_tokens = list(filter (lambda s:any([c.isalnum() for c in s]), tweet_tokens))\n",
    "white_tokens = list(filter (lambda s:any([c.isalnum() for c in s]), white_tokens))"
   ]
  },
  {
   "cell_type": "code",
   "execution_count": 26,
   "metadata": {},
   "outputs": [],
   "source": [
    "freq_white = FreqDist(white_tokens)\n",
    "freq_tweet = FreqDist(tweet_tokens)"
   ]
  },
  {
   "cell_type": "code",
   "execution_count": 40,
   "metadata": {},
   "outputs": [],
   "source": [
    "#freq_white.most_common(30)"
   ]
  },
  {
   "cell_type": "code",
   "execution_count": 39,
   "metadata": {},
   "outputs": [],
   "source": [
    "#freq_tweet.most_common(20)"
   ]
  },
  {
   "cell_type": "code",
   "execution_count": 36,
   "metadata": {},
   "outputs": [
    {
     "name": "stdout",
     "output_type": "stream",
     "text": [
      "avg words per tweet:  9.901497883425595\n",
      "avg chars per tweet:  77.4558775643113\n",
      "Avg chars of tokens:  6.790109348022692\n",
      "Std chars of tokens:  3.531759688124525\n",
      "Unique words:  38999\n",
      "Token/Type:  0.32063635616213104\n"
     ]
    }
   ],
   "source": [
    "input_tuple_tokens = []\n",
    "num_of_chars = 0\n",
    "lchars = []\n",
    "for tu in input_tuple:\n",
    "    tokens = WhitespaceTokenizer().tokenize(tu[1])\n",
    "    tokens = list(filter (lambda s:any([c.isalnum() for c in s]), tokens))\n",
    "    num_of_chars = num_of_chars + len(tu[1])\n",
    "    input_tuple_tokens.append((tu[0],tokens))\n",
    "    \n",
    "    \n",
    "print(\"avg words per tweet: \", len(white_tokens)/len(input_tweets))\n",
    "print(\"avg chars per tweet: \", num_of_chars/len(input_tweets))\n",
    "\n",
    "for token in white_tokens:\n",
    "    lchars.append(len(token))\n",
    "\n",
    "print(\"Avg chars of tokens: \",np.mean(lchars))\n",
    "print(\"Std chars of tokens: \",np.std(lchars))\n",
    "\n",
    "print(\"Unique words: \", len(set(white_tokens)))\n",
    "print(\"Token/Type: \", len(set(white_tokens))/len(white_tokens))"
   ]
  },
  {
   "cell_type": "code",
   "execution_count": 38,
   "metadata": {},
   "outputs": [
    {
     "data": {
      "image/png": "[encoded data removed]",
      "text/plain": [
       "<Figure size 432x288 with 1 Axes>"
      ]
     },
     "metadata": {
      "needs_background": "light"
     },
     "output_type": "display_data"
    }
   ],
   "source": [
    "from matplotlib import pyplot as plt\n",
    "top30 = list(freq_white.most_common(30))\n",
    "word30 = [t[0] for t in top30]\n",
    "log30 = [np.log(t[1]) for t in top30]\n",
    "plt.plot(word30,log30)\n",
    "plt.xticks(rotation=90)\n",
    "plt.show()"
   ]
  },
  {
   "cell_type": "code",
   "execution_count": 41,
   "metadata": {},
   "outputs": [],
   "source": [
    "from nltk import ngrams\n",
    "n_grams = {}\n",
    "\n",
    "for n in range(2,6):\n",
    "    d_n = {}\n",
    "    for t in input_tweets:\n",
    "        grams = ngrams(t.split(),n)\n",
    "        for g in grams:\n",
    "            if g in d_n:\n",
    "                d_n[g] = d_n[g]+1\n",
    "            else:\n",
    "                d_n[g] = 1\n",
    "    n_grams[n] = d_n"
   ]
  },
  {
   "cell_type": "code",
   "execution_count": 42,
   "metadata": {},
   "outputs": [],
   "source": [
    "n_grams_chars = {}\n",
    "for n in range(2,8):\n",
    "    d_char = {}\n",
    "    for b in input_tweets:\n",
    "        grams = [b[i:i+n] for i in range(len(b)-n+1)]\n",
    "        for g in grams:\n",
    "            if g in d_char:\n",
    "                d_char[g] = d_char[g]+1\n",
    "            else:\n",
    "                d_char[g] = 1\n",
    "        n_grams_chars[n] = d_char"
   ]
  },
  {
   "cell_type": "code",
   "execution_count": 43,
   "metadata": {},
   "outputs": [],
   "source": [
    "##Combine all the input.\n",
    "dev = open('./data/Gold/dev.txt').readlines()\n",
    "devtest = open('./data/Gold/devtest.txt').readlines()\n",
    "test = open('./data/Gold/test.txt').readlines()\n",
    "train = open('./data/Gold/train.txt').readlines()"
   ]
  },
  {
   "cell_type": "code",
   "execution_count": 45,
   "metadata": {},
   "outputs": [],
   "source": [
    "def read_gold_files(f):\n",
    "    res = []\n",
    "    for line in f:\n",
    "        s = line.split('\\t',2)\n",
    "        res.append((preprocess_tweet(s[2]),s[1]))\n",
    "    return res\n",
    "\n",
    "gold_tweets = read_gold_files(dev)+read_gold_files(devtest)+read_gold_files(test)+read_gold_files(train)"
   ]
  },
  {
   "cell_type": "code",
   "execution_count": 46,
   "metadata": {},
   "outputs": [
    {
     "data": {
      "text/plain": [
       "[('jay z joins instagram nostalgic tribute michael jackson: jay z apparently joined instagram saturday and..',\n",
       "  'positive'),\n",
       " ('michael jackson: bad 25th anniversary edition (picture vinyl): unique picture disc vinyl includes original 1',\n",
       "  'neutral'),\n",
       " ('liked @youtube video one direction singing \"man mirror\" michael jackson atlanta, ga [june 26,\\n',\n",
       "  'positive'),\n",
       " (\"18th anniv princess diana's death. still want believe living private island away public. michael jackson.\\n\",\n",
       "  'positive'),\n",
       " ('@oridaganjazz 1st time heard michael jackson sing honolulu, hawaii @ restaurant radio. a.b.c. 13. loved it!\\n',\n",
       "  'positive'),\n",
       " (\"'michael jackson' appeared saturday 29 9th place top20 miami's trends: #trndnl\\n\",\n",
       "  'neutral'),\n",
       " ('old enough remember michael jackson attending grammys brooke shields webster sat lap show?\\n',\n",
       "  'positive'),\n",
       " (\"@etbowser u enjoy 2nd rate michael jackson bit? honest ques. like can't feel face song god obvious want mj 2.0\\n\",\n",
       "  'negative'),\n",
       " ('weeknd closest thing may get michael jackson long time...especially since damn near mimics everything\\n',\n",
       "  'neutral')]"
      ]
     },
     "execution_count": 46,
     "metadata": {},
     "output_type": "execute_result"
    }
   ],
   "source": [
    "gold_tweets[1:10]"
   ]
  },
  {
   "cell_type": "code",
   "execution_count": null,
   "metadata": {},
   "outputs": [],
   "source": []
  },
  {
   "cell_type": "code",
   "execution_count": 52,
   "metadata": {},
   "outputs": [],
   "source": [
    "def features(tweet):\n",
    "    tokens = WhitespaceTokenizer().tokenize(tweet)\n",
    "    tokens = list(filter (lambda s:any([c.isalnum() for c in s]), tokens))\n",
    "    return dict(('contains(%s)' % w, True) for w in tokens)\n",
    "\n",
    "from sklearn.model_selection import train_test_split\n",
    "trains, tests = train_test_split(gold_tweets, test_size = 0.33, random_state=42)"
   ]
  },
  {
   "cell_type": "code",
   "execution_count": 53,
   "metadata": {},
   "outputs": [],
   "source": [
    "from nltk.classify import NaiveBayesClassifier\n",
    "from nltk.sentiment import SentimentAnalyzer\n",
    "from nltk.sentiment.util import *"
   ]
  },
  {
   "cell_type": "code",
   "execution_count": 54,
   "metadata": {},
   "outputs": [],
   "source": [
    "training_features = [(features(tu[0]),tu[1]) for tu in trains]"
   ]
  },
  {
   "cell_type": "code",
   "execution_count": 55,
   "metadata": {},
   "outputs": [
    {
     "data": {
      "text/plain": [
       "20522"
      ]
     },
     "execution_count": 55,
     "metadata": {},
     "output_type": "execute_result"
    }
   ],
   "source": [
    "len(training_features)"
   ]
  },
  {
   "cell_type": "code",
   "execution_count": 56,
   "metadata": {},
   "outputs": [
    {
     "name": "stdout",
     "output_type": "stream",
     "text": [
      "Training classifier\n"
     ]
    }
   ],
   "source": [
    "sentiment_analyzer = SentimentAnalyzer()\n",
    "trainer = NaiveBayesClassifier.train\n",
    "classifier = sentiment_analyzer.train(trainer, training_features)"
   ]
  },
  {
   "cell_type": "code",
   "execution_count": 57,
   "metadata": {},
   "outputs": [],
   "source": [
    "truth_list = [(features(tu[0]),tu[1]) for tu in tests]"
   ]
  },
  {
   "cell_type": "code",
   "execution_count": 58,
   "metadata": {},
   "outputs": [
    {
     "name": "stdout",
     "output_type": "stream",
     "text": [
      "Evaluating NaiveBayesClassifier results...\n"
     ]
    },
    {
     "data": {
      "text/plain": [
       "{'Accuracy': 0.5701849836779108,\n",
       " 'Precision [positive]': 0.6412535079513564,\n",
       " 'Recall [positive]': 0.6880803011292347,\n",
       " 'F-measure [positive]': 0.6638421498607916,\n",
       " 'Precision [neutral]': 0.6562291805463024,\n",
       " 'Recall [neutral]': 0.43268174829782563,\n",
       " 'F-measure [neutral]': 0.5215089344804764,\n",
       " 'Precision [negative]': 0.37160014129282937,\n",
       " 'Recall [negative]': 0.6696371737746658,\n",
       " 'F-measure [negative]': 0.47796456156292594}"
      ]
     },
     "execution_count": 58,
     "metadata": {},
     "output_type": "execute_result"
    }
   ],
   "source": [
    "sentiment_analyzer.evaluate(truth_list,classifier)"
   ]
  },
  {
   "cell_type": "code",
   "execution_count": 59,
   "metadata": {},
   "outputs": [],
   "source": [
    "from nltk.sentiment.vader import SentimentIntensityAnalyzer"
   ]
  },
  {
   "cell_type": "code",
   "execution_count": 76,
   "metadata": {},
   "outputs": [],
   "source": [
    "nltk_vader_res = []\n",
    "\n",
    "analyzer = SentimentIntensityAnalyzer()\n",
    "sentences = [t[0] for t in tests]\n",
    "for sentence in sentences:\n",
    "    vs = analyzer.polarity_scores(sentence)\n",
    "    if vs['compound'] >= 0.45 : \n",
    "        nltk_vader_res.append(\"positive\") \n",
    "    elif vs['compound'] <= - 0.45 : \n",
    "        nltk_vader_res.append(\"negative\") \n",
    "    else : \n",
    "        nltk_vader_res.append(\"neutral\")"
   ]
  },
  {
   "cell_type": "code",
   "execution_count": 77,
   "metadata": {},
   "outputs": [
    {
     "data": {
      "text/plain": [
       "0.5616777129290731"
      ]
     },
     "execution_count": 77,
     "metadata": {},
     "output_type": "execute_result"
    }
   ],
   "source": [
    "correct = 0\n",
    "for i in range(len(sentences)):\n",
    "    if nltk_vader_res[i] == tests[i][1]: \n",
    "        correct = correct+1\n",
    "correct/len(sentences)"
   ]
  },
  {
   "cell_type": "code",
   "execution_count": 78,
   "metadata": {},
   "outputs": [],
   "source": [
    "trainingFeatures=nltk.classify.apply_features(features,trains)"
   ]
  },
  {
   "cell_type": "code",
   "execution_count": 79,
   "metadata": {},
   "outputs": [],
   "source": [
    "NBayesClassifier=nltk.NaiveBayesClassifier.train(trainingFeatures)"
   ]
  },
  {
   "cell_type": "code",
   "execution_count": 82,
   "metadata": {},
   "outputs": [],
   "source": [
    "NBResultLabels = [NBayesClassifier.classify(tu[0]) for tu in truth_list]"
   ]
  },
  {
   "cell_type": "code",
   "execution_count": 84,
   "metadata": {},
   "outputs": [
    {
     "data": {
      "text/plain": [
       "0.5701849836779108"
      ]
     },
     "execution_count": 84,
     "metadata": {},
     "output_type": "execute_result"
    }
   ],
   "source": [
    "nb = 0\n",
    "for i in range(len(NBResultLabels)):\n",
    "    if NBResultLabels[i] == truth_list[i][1]:\n",
    "        nb = nb+1\n"
   ]
  },
  {
   "cell_type": "code",
   "execution_count": null,
   "metadata": {},
   "outputs": [],
   "source": []
  }
 ],
 "metadata": {
  "kernelspec": {
   "display_name": "Python 3",
   "language": "python",
   "name": "python3"
  },
  "language_info": {
   "codemirror_mode": {
    "name": "ipython",
    "version": 3
   },
   "file_extension": ".py",
   "mimetype": "text/x-python",
   "name": "python",
   "nbconvert_exporter": "python",
   "pygments_lexer": "ipython3",
   "version": "3.7.3"
  }
 },
 "nbformat": 4,
 "nbformat_minor": 2
}
