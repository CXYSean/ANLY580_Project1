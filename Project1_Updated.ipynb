{
 "cells": [
  {
   "cell_type": "markdown",
   "metadata": {},
   "source": [
    "# ANLY580 Project1"
   ]
  },
  {
   "cell_type": "code",
   "execution_count": 6,
   "metadata": {},
   "outputs": [],
   "source": [
    "# Import required library\n",
    "import pandas as pd\n",
    "import numpy as np\n",
    "import nltk\n",
    "import re\n",
    "from nltk.corpus import stopwords"
   ]
  },
  {
   "cell_type": "markdown",
   "metadata": {},
   "source": [
    "Task1"
   ]
  },
  {
   "cell_type": "code",
   "execution_count": 210,
   "metadata": {},
   "outputs": [
    {
     "name": "stdout",
     "output_type": "stream",
     "text": [
      "Total number of tweets:  12284\n"
     ]
    }
   ],
   "source": [
    "# Input data (Data in the dev directory)\n",
    "\n",
    "# Open Input.txt, read the file and save to variable named f\n",
    "f = open('./data/Dev/INPUT.txt').readlines()\n",
    "stop_words = set(stopwords.words('english'))\n",
    "num_of_tweets = 0\n",
    "lines = []\n",
    "\n",
    "from nltk.stem import PorterStemmer\n",
    "from nltk.stem import WordNetLemmatizer\n",
    "\n",
    "# Create preprocess_tweet function that preprocess the tweet by setting all the words to lower case and remove url\n",
    "def preprocess_tweet(tweet):\n",
    "    words = tweet.split(' ')\n",
    "    temp = []\n",
    "    for w in words:\n",
    "        s = w.lower()\n",
    "        if \"http\" in s or s in stop_words:\n",
    "            continue\n",
    "        else:\n",
    "            temp.append(s)\n",
    "    return \" \".join(temp)\n",
    "\n",
    "input_tuple = []\n",
    "input_tweets = []\n",
    "for line in f:\n",
    "    num_of_tweets = num_of_tweets+1\n",
    "    input_id = line.split('\\t',2)[0]\n",
    "    s = line.split('\\t',2)[2]\n",
    "    input_tuple.append((input_id,preprocess_tweet(s)))\n",
    "    input_tweets.append(preprocess_tweet(s))\n",
    "    \n",
    "print(\"Total number of tweets: \", len(input_tuple))"
   ]
  },
  {
   "cell_type": "markdown",
   "metadata": {},
   "source": [
    "Tokenize"
   ]
  },
  {
   "cell_type": "code",
   "execution_count": 211,
   "metadata": {},
   "outputs": [],
   "source": [
    "from nltk.tokenize import WhitespaceTokenizer\n",
    "from nltk.tokenize import TweetTokenizer"
   ]
  },
  {
   "cell_type": "code",
   "execution_count": 212,
   "metadata": {},
   "outputs": [
    {
     "name": "stdout",
     "output_type": "stream",
     "text": [
      "Total number of words white:  124923\n",
      "Total number of words tweet:  153822\n"
     ]
    }
   ],
   "source": [
    "##tokenize with different tokenizer\n",
    "white_tokens = WhitespaceTokenizer().tokenize(\" \".join(input_tweets))\n",
    "tweet_tokens = TweetTokenizer().tokenize(\" \".join(input_tweets))\n",
    "print(\"Total number of words white: \", len(white_tokens))\n",
    "print(\"Total number of words tweet: \", len(tweet_tokens))"
   ]
  },
  {
   "cell_type": "code",
   "execution_count": 213,
   "metadata": {},
   "outputs": [],
   "source": [
    "##get the frequency\n",
    "from nltk.probability import ConditionalFreqDist\n",
    "from nltk.probability import FreqDist\n",
    "\n",
    "tweet_tokens = list(filter (lambda s:any([c.isalnum() for c in s]), tweet_tokens))\n",
    "white_tokens = list(filter (lambda s:any([c.isalnum() for c in s]), white_tokens))"
   ]
  },
  {
   "cell_type": "code",
   "execution_count": 214,
   "metadata": {},
   "outputs": [],
   "source": [
    "freq_white = FreqDist(white_tokens)\n",
    "freq_tweet = FreqDist(tweet_tokens)"
   ]
  },
  {
   "cell_type": "code",
   "execution_count": 215,
   "metadata": {},
   "outputs": [
    {
     "name": "stdout",
     "output_type": "stream",
     "text": [
      "trump :  710\n",
      "like :  464\n",
      "via :  377\n",
      "get :  356\n",
      "i'm :  297\n",
      "one :  295\n",
      "new :  292\n",
      "people :  292\n",
      "would :  260\n",
      "us :  247\n"
     ]
    }
   ],
   "source": [
    "#The total number of tokens corresponding to the top 10 most frequent words (types) in the vocabulary\n",
    "top10 = list(freq_white.most_common(10))\n",
    "for t in top10:\n",
    "    print(t[0],\": \",t[1])"
   ]
  },
  {
   "cell_type": "code",
   "execution_count": 216,
   "metadata": {},
   "outputs": [
    {
     "name": "stdout",
     "output_type": "stream",
     "text": [
      "avg words per tweet:  9.901497883425595\n",
      "avg chars per tweet:  77.4558775643113\n",
      "Avg chars of tokens:  6.790109348022692\n",
      "Std chars of tokens:  3.531759688124525\n",
      "Unique words:  38999\n",
      "Token/Type:  0.32063635616213104\n"
     ]
    }
   ],
   "source": [
    "input_tuple_tokens = []\n",
    "num_of_chars = 0\n",
    "lchars = []\n",
    "for tu in input_tuple:\n",
    "    tokens = WhitespaceTokenizer().tokenize(tu[1])\n",
    "    tokens = list(filter (lambda s:any([c.isalnum() for c in s]), tokens))\n",
    "    num_of_chars = num_of_chars + len(tu[1])\n",
    "    input_tuple_tokens.append((tu[0],tokens))\n",
    "    \n",
    "    \n",
    "print(\"avg words per tweet: \", len(white_tokens)/len(input_tweets))\n",
    "print(\"avg chars per tweet: \", num_of_chars/len(input_tweets))\n",
    "\n",
    "for token in white_tokens:\n",
    "    lchars.append(len(token))\n",
    "\n",
    "print(\"Avg chars of tokens: \",np.mean(lchars))\n",
    "print(\"Std chars of tokens: \",np.std(lchars))\n",
    "\n",
    "print(\"Unique words: \", len(set(white_tokens)))\n",
    "print(\"Token/Type: \", len(set(white_tokens))/len(white_tokens))"
   ]
  },
  {
   "cell_type": "code",
   "execution_count": 217,
   "metadata": {},
   "outputs": [
    {
     "data": {
      "image/png": "[encoded data removed]",
      "text/plain": [
       "<Figure size 432x288 with 1 Axes>"
      ]
     },
     "metadata": {
      "needs_background": "light"
     },
     "output_type": "display_data"
    }
   ],
   "source": [
    "##token log frequency plot\n",
    "from matplotlib import pyplot as plt\n",
    "top30 = list(freq_white.most_common(30))\n",
    "word30 = [t[0] for t in top30]\n",
    "log30 = [np.log(t[1]) for t in top30]\n",
    "plt.plot(word30,log30)\n",
    "plt.xticks(rotation=90)\n",
    "plt.show()"
   ]
  },
  {
   "cell_type": "code",
   "execution_count": 220,
   "metadata": {},
   "outputs": [
    {
     "name": "stdout",
     "output_type": "stream",
     "text": [
      "Distinct 2 grams words:  99809\n",
      "Distinct 3 grams words:  97937\n",
      "Distinct 4 grams words:  87533\n",
      "Distinct 5 grams words:  76017\n"
     ]
    }
   ],
   "source": [
    "from nltk import ngrams\n",
    "n_grams = {}\n",
    "\n",
    "for n in range(2,6):\n",
    "    d_n = {}\n",
    "    for t in input_tweets:\n",
    "        grams = ngrams(t.split(),n)\n",
    "        for g in grams:\n",
    "            if g in d_n:\n",
    "                d_n[g] = d_n[g]+1\n",
    "            else:\n",
    "                d_n[g] = 1\n",
    "    n_grams[n] = d_n\n",
    "    print(\"Distinct\",n,\"grams words: \",len(d_n))"
   ]
  },
  {
   "cell_type": "code",
   "execution_count": 222,
   "metadata": {},
   "outputs": [
    {
     "name": "stdout",
     "output_type": "stream",
     "text": [
      "Distinct 2 grams chars:  4597\n",
      "Distinct 3 grams chars:  29535\n",
      "Distinct 4 grams chars:  102820\n",
      "Distinct 5 grams chars:  226659\n",
      "Distinct 6 grams chars:  363957\n",
      "Distinct 7 grams chars:  476797\n"
     ]
    }
   ],
   "source": [
    "n_grams_chars = {}\n",
    "for n in range(2,8):\n",
    "    d_char = {}\n",
    "    for b in input_tweets:\n",
    "        grams = [b[i:i+n] for i in range(len(b)-n+1)]\n",
    "        for g in grams:\n",
    "            if g in d_char:\n",
    "                d_char[g] = d_char[g]+1\n",
    "            else:\n",
    "                d_char[g] = 1\n",
    "    n_grams_chars[n] = d_char\n",
    "    print(\"Distinct\",n,\"grams chars: \",len(d_char))"
   ]
  },
  {
   "cell_type": "code",
   "execution_count": 223,
   "metadata": {},
   "outputs": [],
   "source": [
    "##Combine all the input.\n",
    "dev = open('./data/Gold/dev.txt').readlines()\n",
    "devtest = open('./data/Gold/devtest.txt').readlines()\n",
    "test = open('./data/Gold/test.txt').readlines()\n",
    "train = open('./data/Gold/train.txt').readlines()"
   ]
  },
  {
   "cell_type": "code",
   "execution_count": 224,
   "metadata": {},
   "outputs": [],
   "source": [
    "def read_gold_files(f):\n",
    "    res = []\n",
    "    for line in f:\n",
    "        s = line.split('\\t',2)\n",
    "        res.append((preprocess_tweet(s[2]),s[1]))\n",
    "    return res\n",
    "\n",
    "gold_tweets = read_gold_files(dev)+read_gold_files(devtest)+read_gold_files(test)+read_gold_files(train)"
   ]
  },
  {
   "cell_type": "code",
   "execution_count": 225,
   "metadata": {},
   "outputs": [
    {
     "data": {
      "text/plain": [
       "[('jay z joins instagram nostalgic tribute michael jackson: jay z apparently joined instagram saturday and..',\n",
       "  'positive'),\n",
       " ('michael jackson: bad 25th anniversary edition (picture vinyl): unique picture disc vinyl includes original 1',\n",
       "  'neutral'),\n",
       " ('liked @youtube video one direction singing \"man mirror\" michael jackson atlanta, ga [june 26,\\n',\n",
       "  'positive'),\n",
       " (\"18th anniv princess diana's death. still want believe living private island away public. michael jackson.\\n\",\n",
       "  'positive'),\n",
       " ('@oridaganjazz 1st time heard michael jackson sing honolulu, hawaii @ restaurant radio. a.b.c. 13. loved it!\\n',\n",
       "  'positive'),\n",
       " (\"'michael jackson' appeared saturday 29 9th place top20 miami's trends: #trndnl\\n\",\n",
       "  'neutral'),\n",
       " ('old enough remember michael jackson attending grammys brooke shields webster sat lap show?\\n',\n",
       "  'positive'),\n",
       " (\"@etbowser u enjoy 2nd rate michael jackson bit? honest ques. like can't feel face song god obvious want mj 2.0\\n\",\n",
       "  'negative'),\n",
       " ('weeknd closest thing may get michael jackson long time...especially since damn near mimics everything\\n',\n",
       "  'neutral')]"
      ]
     },
     "execution_count": 225,
     "metadata": {},
     "output_type": "execute_result"
    }
   ],
   "source": [
    "gold_tweets[1:10]"
   ]
  },
  {
   "cell_type": "code",
   "execution_count": 226,
   "metadata": {},
   "outputs": [
    {
     "name": "stdout",
     "output_type": "stream",
     "text": [
      "Num of tokens gold only: 27482\n",
      "Training Positive:  9739\n",
      "Training Negative:  9739\n",
      "Training Neutral:  9739\n"
     ]
    },
    {
     "name": "stderr",
     "output_type": "stream",
     "text": [
      "//anaconda3/lib/python3.7/site-packages/IPython/core/pylabtools.py:128: UserWarning: Creating legend with loc=\"best\" can be slow with large amounts of data.\n",
      "  fig.canvas.print_figure(bytes_io, **kw)\n"
     ]
    },
    {
     "data": {
      "image/png": "[encoded data removed]",
      "text/plain": [
       "<Figure size 432x288 with 1 Axes>"
      ]
     },
     "metadata": {
      "needs_background": "light"
     },
     "output_type": "display_data"
    }
   ],
   "source": [
    "tokens_tweet_url_punct_removed = white_tokens\n",
    "\n",
    "def remove_http(tweet):\n",
    "    t = tweet.split(' ')\n",
    "    temp = []\n",
    "    for s in t:\n",
    "        if \"https://\"  in s or \"http://\" in s or s.lower() in stop_words:\n",
    "            continue\n",
    "        else:\n",
    "            temp.append(s.lower())\n",
    "    return \" \".join(temp)\n",
    "\n",
    "def read_tweets(f):\n",
    "    positive = []\n",
    "    negative = []\n",
    "    neutral = []\n",
    "    tweets = []\n",
    "    res = []\n",
    "    for s in f:\n",
    "        t = s.split('\\t')\n",
    "        t[2] = remove_http(t[2])\n",
    "        if t[1] == \"positive\":\n",
    "            positive.append(t[2])\n",
    "        elif t[1] == \"negative\":\n",
    "            negative.append(t[2])\n",
    "        elif t[1] == \"neutral\":\n",
    "            neutral.append(t[2])\n",
    "        tweets.append(t[2])\n",
    "        res.append(t[1])\n",
    "    d = {}\n",
    "    d[\"positive\"] = positive\n",
    "    d[\"negative\"] = negative\n",
    "    d[\"neutral\"] = neutral\n",
    "    return tweets,d,res\n",
    "\n",
    "##dev_tweets, dev_tweets_dict,dev_res = read_tweets(dev)\n",
    "\n",
    "dev_tweets, dev_tweets_dict, dev_res = read_tweets(dev)\n",
    "devtest_tweets, devtest_tweets_dict, devtest_res = read_tweets(devtest)\n",
    "test_tweets, test_tweets_dict, test_res = read_tweets(test)\n",
    "train_tweets, train_tweets_dict, train_res = read_tweets(dev)\n",
    "\n",
    "#dev_tweets_dict['positive']\n",
    "\n",
    "tokens_dev_tweets = {}\n",
    "tokens_devtest_tweets = {}\n",
    "tokens_test_tweets = {}\n",
    "tokens_train_tweets = {}\n",
    "\n",
    "def process_list_tweets(tweets):\n",
    "    res = []\n",
    "    for tweet in tweets:\n",
    "        tokens = TweetTokenizer().tokenize(tweet)\n",
    "        tokens =  list(filter (lambda s:any([c.isalnum() for c in s]), tokens))\n",
    "        tokens = [x.lower() for x in tokens]\n",
    "        res.append(tokens)\n",
    "    return res\n",
    "\n",
    "tokens_dev_tweets['positive'] = process_list_tweets(dev_tweets_dict['positive'])\n",
    "tokens_dev_tweets['negative'] = process_list_tweets(dev_tweets_dict['negative'])\n",
    "tokens_dev_tweets['neutral'] = process_list_tweets(dev_tweets_dict['neutral'])\n",
    "\n",
    "tokens_devtest_tweets['positive'] = process_list_tweets(devtest_tweets_dict['positive'])\n",
    "tokens_devtest_tweets['negative'] = process_list_tweets(devtest_tweets_dict['negative'])\n",
    "tokens_devtest_tweets['neutral'] = process_list_tweets(devtest_tweets_dict['neutral'])\n",
    "\n",
    "tokens_test_tweets['positive'] = process_list_tweets(test_tweets_dict['positive'])\n",
    "tokens_test_tweets['negative'] = process_list_tweets(test_tweets_dict['negative'])\n",
    "tokens_test_tweets['neutral'] = process_list_tweets(test_tweets_dict['neutral'])\n",
    "\n",
    "tokens_train_tweets['positive'] = process_list_tweets(train_tweets_dict['positive'])\n",
    "tokens_train_tweets['negative'] = process_list_tweets(train_tweets_dict['negative'])\n",
    "tokens_train_tweets['neutral'] = process_list_tweets(train_tweets_dict['neutral'])\n",
    "\n",
    "\n",
    "tokens_gold_only = []\n",
    "for att in tokens_dev_tweets:\n",
    "    for tw in tokens_dev_tweets[att]:\n",
    "        for tok in tw:\n",
    "            if tok in tokens_gold_only or tok in tokens_tweet_url_punct_removed:\n",
    "                continue\n",
    "            else:\n",
    "                tokens_gold_only.append(tok)\n",
    "                \n",
    "\n",
    "len(tokens_gold_only)\n",
    "\n",
    "for att in tokens_devtest_tweets:\n",
    "    for tw in tokens_devtest_tweets[att]:\n",
    "        for tok in tw:\n",
    "            if tok in tokens_gold_only or tok in tokens_tweet_url_punct_removed:\n",
    "                continue\n",
    "            else:\n",
    "                tokens_gold_only.append(tok)\n",
    "                \n",
    "\n",
    "\n",
    "for att in tokens_test_tweets:\n",
    "    for tw in tokens_test_tweets[att]:\n",
    "        for tok in tw:\n",
    "            if tok in tokens_gold_only or tok in tokens_tweet_url_punct_removed:\n",
    "                continue\n",
    "            else:\n",
    "                tokens_gold_only.append(tok)\n",
    "\n",
    "\n",
    "\n",
    "for att in tokens_train_tweets:\n",
    "    for tw in tokens_train_tweets[att]:\n",
    "        for tok in tw:\n",
    "            if tok in tokens_gold_only or tok in tokens_tweet_url_punct_removed:\n",
    "                continue\n",
    "            else:\n",
    "                tokens_gold_only.append(tok)\n",
    "\n",
    "print(\"Num of tokens gold only:\",len(tokens_gold_only))\n",
    "\n",
    "\n",
    "\n",
    "positive_train = [item for sublist in tokens_train_tweets['positive'] for item in sublist]\n",
    "freq_post_train = FreqDist(positive_train)\n",
    "\n",
    "#freq_post_train.most_common(30)\n",
    "\n",
    "negative_train = [item for sublist in tokens_train_tweets['negative'] for item in sublist]\n",
    "freq_nega_train = FreqDist(negative_train)\n",
    "#freq_nega_train.most_common(30)\n",
    "\n",
    "neutral_train = [item for sublist in tokens_train_tweets['neutral'] for item in sublist]\n",
    "freq_neut_train = FreqDist(neutral_train)\n",
    "#freq_neut_train.most_common(30)\n",
    "\n",
    "##from 2-tools.ipynb\n",
    "def separate_tokens_types(words):\n",
    "\n",
    "    \"\"\"\n",
    "    Given a list of words from a corpus, separate the counts of tokens and\n",
    "    types in time. Return the two lists.\n",
    "    \"\"\"\n",
    "\n",
    "    t_d = {}\n",
    "    tokens, types = [], []\n",
    "    count = 0\n",
    "    for i in range(len(words)):\n",
    "\n",
    "        if words[i] not in t_d:\n",
    "            count += 1\n",
    "            t_d[words[i]] = 1\n",
    "\n",
    "        tokens.append(i + 1)\n",
    "        types.append(count)\n",
    "\n",
    "    return tokens, types\n",
    "\n",
    "gold_words = [t.split(' ') for t in dev_tweets]+[t.split(' ') for t in devtest_tweets]\n",
    "gold_words = gold_words+[t.split(' ') for t in test_tweets]+[t.split(' ') for t in train_tweets]\n",
    "gold_words = [item.lower() for sublist in gold_words for item in sublist if item.isalpha()]\n",
    "\n",
    "len(gold_words)\n",
    "\n",
    "gold_tokens, gold_types = separate_tokens_types(gold_words)\n",
    "\n",
    "plt.plot(gold_tokens, gold_types, label='Gold')\n",
    "\n",
    "plt.grid()\n",
    "plt.legend()\n",
    "plt.title(\"Heaps' laws NLTK corpora\")\n",
    "plt.xlabel('Num tokens')\n",
    "plt.ylabel('Num types')\n",
    "plt.show()"
   ]
  },
  {
   "cell_type": "code",
   "execution_count": 227,
   "metadata": {},
   "outputs": [
    {
     "name": "stdout",
     "output_type": "stream",
     "text": [
      "Training Positive:  9739\n",
      "Training Negative:  4338\n",
      "Training Neutral:  12553\n"
     ]
    }
   ],
   "source": [
    "print(\"Training Positive: \", len(tokens_train_tweets['positive'])+len(tokens_test_tweets['positive'])+len(tokens_dev_tweets['positive'])+len(tokens_devtest_tweets['positive']))\n",
    "print(\"Training Negative: \", len(tokens_train_tweets['negative'])+len(tokens_test_tweets['negative'])+len(tokens_dev_tweets['negative'])+len(tokens_devtest_tweets['negative']))\n",
    "print(\"Training Neutral: \", len(tokens_train_tweets['neutral'])+len(tokens_test_tweets['neutral'])+len(tokens_dev_tweets['neutral'])+len(tokens_devtest_tweets['neutral']))"
   ]
  },
  {
   "cell_type": "code",
   "execution_count": 228,
   "metadata": {},
   "outputs": [],
   "source": [
    "def features(tweet):\n",
    "    tokens = WhitespaceTokenizer().tokenize(tweet)\n",
    "    tokens = list(filter (lambda s:any([c.isalnum() for c in s]), tokens))\n",
    "    return dict(('contains(%s)' % w, True) for w in tokens)\n",
    "\n",
    "from sklearn.model_selection import train_test_split\n",
    "trains, tests = train_test_split(gold_tweets, test_size = 0.25, random_state=42)"
   ]
  },
  {
   "cell_type": "code",
   "execution_count": 229,
   "metadata": {},
   "outputs": [],
   "source": [
    "from nltk.classify import NaiveBayesClassifier\n",
    "from nltk.sentiment import SentimentAnalyzer\n",
    "from nltk.sentiment.util import *"
   ]
  },
  {
   "cell_type": "code",
   "execution_count": 230,
   "metadata": {},
   "outputs": [],
   "source": [
    "training_features = [(features(tu[0]),tu[1]) for tu in trains]"
   ]
  },
  {
   "cell_type": "code",
   "execution_count": 231,
   "metadata": {},
   "outputs": [
    {
     "data": {
      "text/plain": [
       "22973"
      ]
     },
     "execution_count": 231,
     "metadata": {},
     "output_type": "execute_result"
    }
   ],
   "source": [
    "len(training_features)"
   ]
  },
  {
   "cell_type": "code",
   "execution_count": 232,
   "metadata": {},
   "outputs": [
    {
     "name": "stdout",
     "output_type": "stream",
     "text": [
      "Training classifier\n"
     ]
    }
   ],
   "source": [
    "sentiment_analyzer = SentimentAnalyzer()\n",
    "trainer = NaiveBayesClassifier.train\n",
    "classifier = sentiment_analyzer.train(trainer, training_features)"
   ]
  },
  {
   "cell_type": "code",
   "execution_count": 233,
   "metadata": {},
   "outputs": [],
   "source": [
    "truth_list = [(features(tu[0]),tu[1]) for tu in tests]"
   ]
  },
  {
   "cell_type": "code",
   "execution_count": 234,
   "metadata": {},
   "outputs": [
    {
     "name": "stdout",
     "output_type": "stream",
     "text": [
      "Evaluating NaiveBayesClassifier results...\n"
     ]
    },
    {
     "data": {
      "text/plain": [
       "{'Accuracy': 0.5728649778009924,\n",
       " 'Precision [positive]': 0.6414746543778802,\n",
       " 'Recall [positive]': 0.6904761904761905,\n",
       " 'F-measure [positive]': 0.6650740563784042,\n",
       " 'Precision [neutral]': 0.6471095772217429,\n",
       " 'Recall [neutral]': 0.43770061278085787,\n",
       " 'F-measure [neutral]': 0.5221932114882506,\n",
       " 'Precision [negative]': 0.38321342925659474,\n",
       " 'Recall [negative]': 0.6619718309859155,\n",
       " 'F-measure [negative]': 0.48541919805589306}"
      ]
     },
     "execution_count": 234,
     "metadata": {},
     "output_type": "execute_result"
    }
   ],
   "source": [
    "sentiment_analyzer.evaluate(truth_list,classifier)"
   ]
  },
  {
   "cell_type": "code",
   "execution_count": 235,
   "metadata": {},
   "outputs": [],
   "source": [
    "from nltk.sentiment.vader import SentimentIntensityAnalyzer"
   ]
  },
  {
   "cell_type": "code",
   "execution_count": 236,
   "metadata": {},
   "outputs": [],
   "source": [
    "nltk_vader_res = []\n",
    "\n",
    "analyzer = SentimentIntensityAnalyzer()\n",
    "sentences = [t[0] for t in tests]\n",
    "for sentence in sentences:\n",
    "    vs = analyzer.polarity_scores(sentence)\n",
    "    if vs['compound'] >= 0.45 : \n",
    "        nltk_vader_res.append(\"positive\") \n",
    "    elif vs['compound'] <= - 0.45 : \n",
    "        nltk_vader_res.append(\"negative\") \n",
    "    else : \n",
    "        nltk_vader_res.append(\"neutral\")"
   ]
  },
  {
   "cell_type": "code",
   "execution_count": 237,
   "metadata": {},
   "outputs": [
    {
     "data": {
      "text/plain": [
       "0.5629407155915382"
      ]
     },
     "execution_count": 237,
     "metadata": {},
     "output_type": "execute_result"
    }
   ],
   "source": [
    "correct = 0\n",
    "for i in range(len(sentences)):\n",
    "    if nltk_vader_res[i] == tests[i][1]: \n",
    "        correct = correct+1\n",
    "correct/len(sentences)"
   ]
  },
  {
   "cell_type": "code",
   "execution_count": 238,
   "metadata": {},
   "outputs": [],
   "source": [
    "trainingFeatures=nltk.classify.apply_features(features,trains)"
   ]
  },
  {
   "cell_type": "code",
   "execution_count": 239,
   "metadata": {},
   "outputs": [],
   "source": [
    "NBayesClassifier=nltk.NaiveBayesClassifier.train(trainingFeatures)"
   ]
  },
  {
   "cell_type": "code",
   "execution_count": 240,
   "metadata": {},
   "outputs": [],
   "source": [
    "NBResultLabels = [NBayesClassifier.classify(tu[0]) for tu in truth_list]"
   ]
  },
  {
   "cell_type": "code",
   "execution_count": 241,
   "metadata": {},
   "outputs": [],
   "source": [
    "nb = 0\n",
    "for i in range(len(NBResultLabels)):\n",
    "    if NBResultLabels[i] == truth_list[i][1]:\n",
    "        nb = nb+1\n"
   ]
  },
  {
   "cell_type": "code",
   "execution_count": 242,
   "metadata": {},
   "outputs": [],
   "source": [
    "input_list = [features(t) for t in input_tweets]"
   ]
  },
  {
   "cell_type": "code",
   "execution_count": 243,
   "metadata": {},
   "outputs": [],
   "source": [
    "input_res = [NBayesClassifier.classify(t) for t in input_list]"
   ]
  },
  {
   "cell_type": "code",
   "execution_count": 244,
   "metadata": {},
   "outputs": [],
   "source": [
    "with open('res.txt', 'w') as filehandle:\n",
    "    for listitem in input_res:\n",
    "        filehandle.write('%s\\n' % listitem)"
   ]
  },
  {
   "cell_type": "code",
   "execution_count": 245,
   "metadata": {},
   "outputs": [],
   "source": [
    "def bigram_features(tweet):\n",
    "    grams = ngrams(tweet.lower().split(),2)\n",
    "    return dict(('contains(%s)' % \" \".join(w), True) for w in grams)"
   ]
  },
  {
   "cell_type": "code",
   "execution_count": 246,
   "metadata": {},
   "outputs": [],
   "source": [
    "training_bigram_features = [(bigram_features(tu[0]),tu[1]) for tu in trains]"
   ]
  },
  {
   "cell_type": "code",
   "execution_count": 247,
   "metadata": {},
   "outputs": [
    {
     "data": {
      "text/plain": [
       "22973"
      ]
     },
     "execution_count": 247,
     "metadata": {},
     "output_type": "execute_result"
    }
   ],
   "source": [
    "len(training_bigram_features)"
   ]
  },
  {
   "cell_type": "code",
   "execution_count": 248,
   "metadata": {},
   "outputs": [
    {
     "name": "stdout",
     "output_type": "stream",
     "text": [
      "Training classifier\n"
     ]
    }
   ],
   "source": [
    "trainer_bigram = NaiveBayesClassifier.train\n",
    "classifier_bigram = sentiment_analyzer.train(trainer_bigram, training_bigram_features)"
   ]
  },
  {
   "cell_type": "code",
   "execution_count": 249,
   "metadata": {},
   "outputs": [],
   "source": [
    "truth_list_bigram = [(bigram_features(tu[0]),tu[1]) for tu in tests]"
   ]
  },
  {
   "cell_type": "code",
   "execution_count": 250,
   "metadata": {},
   "outputs": [
    {
     "name": "stdout",
     "output_type": "stream",
     "text": [
      "Evaluating NaiveBayesClassifier results...\n"
     ]
    },
    {
     "data": {
      "text/plain": [
       "{'Accuracy': 0.5164533820840951,\n",
       " 'Precision [positive]': 0.5848303393213573,\n",
       " 'Recall [positive]': 0.5813492063492064,\n",
       " 'F-measure [positive]': 0.583084577114428,\n",
       " 'Precision [neutral]': 0.5533824943892273,\n",
       " 'Recall [neutral]': 0.5036475051065071,\n",
       " 'F-measure [neutral]': 0.5273449434769325,\n",
       " 'Precision [negative]': 0.30724070450097846,\n",
       " 'Recall [negative]': 0.39022369511184757,\n",
       " 'F-measure [negative]': 0.3437956204379562}"
      ]
     },
     "execution_count": 250,
     "metadata": {},
     "output_type": "execute_result"
    }
   ],
   "source": [
    "sentiment_analyzer.evaluate(truth_list_bigram,classifier_bigram)"
   ]
  },
  {
   "cell_type": "code",
   "execution_count": 251,
   "metadata": {},
   "outputs": [],
   "source": [
    "from sklearn.feature_extraction.text import CountVectorizer\n",
    "from sklearn.naive_bayes import MultinomialNB\n",
    "from sklearn.linear_model import LogisticRegression\n",
    "from sklearn import metrics\n",
    "from sklearn.metrics import confusion_matrix\n",
    "from sklearn.metrics import classification_report"
   ]
  },
  {
   "cell_type": "code",
   "execution_count": 252,
   "metadata": {},
   "outputs": [],
   "source": [
    "x_train = []\n",
    "y_train = []\n",
    "for tu in trains:\n",
    "    x_train.append(tu[0])\n",
    "    if tu[1] == 'positive':\n",
    "        y_train.append(0)\n",
    "    elif tu[1] == 'negative':\n",
    "        y_train.append(2)\n",
    "    else:\n",
    "        y_train.append(1)"
   ]
  },
  {
   "cell_type": "code",
   "execution_count": 253,
   "metadata": {},
   "outputs": [],
   "source": [
    "vectorizer = CountVectorizer(lowercase=False)"
   ]
  },
  {
   "cell_type": "code",
   "execution_count": 254,
   "metadata": {},
   "outputs": [
    {
     "data": {
      "text/plain": [
       "<22973x32922 sparse matrix of type '<class 'numpy.int64'>'\n",
       "\twith 270026 stored elements in Compressed Sparse Row format>"
      ]
     },
     "execution_count": 254,
     "metadata": {},
     "output_type": "execute_result"
    }
   ],
   "source": [
    "vectorizer.fit(x_train)\n",
    "\n",
    "x_train_dtm = vectorizer.transform(x_train)\n",
    "\n",
    "x_train_dtm"
   ]
  },
  {
   "cell_type": "code",
   "execution_count": 255,
   "metadata": {},
   "outputs": [
    {
     "data": {
      "text/plain": [
       "<7658x32922 sparse matrix of type '<class 'numpy.int64'>'\n",
       "\twith 83046 stored elements in Compressed Sparse Row format>"
      ]
     },
     "execution_count": 255,
     "metadata": {},
     "output_type": "execute_result"
    }
   ],
   "source": [
    "x_test = []\n",
    "y_test = []\n",
    "for tu in tests:\n",
    "    x_test.append(tu[0])\n",
    "    if tu[1] == 'positive':\n",
    "        y_test.append(0)\n",
    "    elif tu[1] == 'negative':\n",
    "        y_test.append(2)\n",
    "    else:\n",
    "        y_test.append(1)\n",
    "        \n",
    "\n",
    "x_test_dtm = vectorizer.transform(x_test)\n",
    "\n",
    "x_test_dtm"
   ]
  },
  {
   "cell_type": "code",
   "execution_count": 256,
   "metadata": {},
   "outputs": [],
   "source": [
    "logreg = LogisticRegression()"
   ]
  },
  {
   "cell_type": "code",
   "execution_count": 257,
   "metadata": {},
   "outputs": [
    {
     "name": "stderr",
     "output_type": "stream",
     "text": [
      "//anaconda3/lib/python3.7/site-packages/sklearn/linear_model/logistic.py:432: FutureWarning: Default solver will be changed to 'lbfgs' in 0.22. Specify a solver to silence this warning.\n",
      "  FutureWarning)\n",
      "//anaconda3/lib/python3.7/site-packages/sklearn/linear_model/logistic.py:469: FutureWarning: Default multi_class will be changed to 'auto' in 0.22. Specify the multi_class option to silence this warning.\n",
      "  \"this warning.\", FutureWarning)\n"
     ]
    },
    {
     "data": {
      "text/plain": [
       "LogisticRegression(C=1.0, class_weight=None, dual=False, fit_intercept=True,\n",
       "                   intercept_scaling=1, l1_ratio=None, max_iter=100,\n",
       "                   multi_class='warn', n_jobs=None, penalty='l2',\n",
       "                   random_state=None, solver='warn', tol=0.0001, verbose=0,\n",
       "                   warm_start=False)"
      ]
     },
     "execution_count": 257,
     "metadata": {},
     "output_type": "execute_result"
    }
   ],
   "source": [
    "logreg.fit(x_train_dtm, y_train)"
   ]
  },
  {
   "cell_type": "code",
   "execution_count": 258,
   "metadata": {},
   "outputs": [],
   "source": [
    "y_prediction_class = logreg.predict(x_test_dtm)"
   ]
  },
  {
   "cell_type": "code",
   "execution_count": 259,
   "metadata": {},
   "outputs": [
    {
     "name": "stdout",
     "output_type": "stream",
     "text": [
      "              precision    recall  f1-score   support\n",
      "\n",
      "    positive       0.66      0.68      0.67      3024\n",
      "     neutral       0.60      0.67      0.64      3427\n",
      "    negative       0.60      0.36      0.45      1207\n",
      "\n",
      "    accuracy                           0.62      7658\n",
      "   macro avg       0.62      0.57      0.58      7658\n",
      "weighted avg       0.62      0.62      0.62      7658\n",
      "\n"
     ]
    }
   ],
   "source": [
    "target_names = ['positive', 'neutral', 'negative']\n",
    "score = metrics.precision_recall_fscore_support(y_true=y_test, y_pred=y_prediction_class)\n",
    "print(classification_report(y_true=y_test, y_pred=y_prediction_class, target_names=target_names))"
   ]
  },
  {
   "cell_type": "code",
   "execution_count": 261,
   "metadata": {},
   "outputs": [
    {
     "data": {
      "text/plain": [
       "set"
      ]
     },
     "execution_count": 261,
     "metadata": {},
     "output_type": "execute_result"
    }
   ],
   "source": [
    "type(stop_words)"
   ]
  },
  {
   "cell_type": "code",
   "execution_count": null,
   "metadata": {},
   "outputs": [],
   "source": []
  }
 ],
 "metadata": {
  "kernelspec": {
   "display_name": "Python 3",
   "language": "python",
   "name": "python3"
  },
  "language_info": {
   "codemirror_mode": {
    "name": "ipython",
    "version": 3
   },
   "file_extension": ".py",
   "mimetype": "text/x-python",
   "name": "python",
   "nbconvert_exporter": "python",
   "pygments_lexer": "ipython3",
   "version": "3.7.3"
  }
 },
 "nbformat": 4,
 "nbformat_minor": 2
}
